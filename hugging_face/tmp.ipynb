{
 "cells": [
  {
   "cell_type": "code",
   "execution_count": 4,
   "metadata": {},
   "outputs": [],
   "source": [
    "from transformers import AutoTokenizer, AutoModelForTokenClassification\n",
    "# from transformers import pipeline\n",
    "\n",
    "checkpoint = \"dslim/bert-base-NER\"\n",
    "tokenizer = AutoTokenizer.from_pretrained(checkpoint)\n",
    "model = AutoModelForTokenClassification.from_pretrained(checkpoint)\n"
   ]
  },
  {
   "cell_type": "code",
   "execution_count": 7,
   "metadata": {},
   "outputs": [
    {
     "data": {
      "text/plain": [
       "{'input_ids': tensor([[  101,  1422,  1271,  1110, 14326,  1105,   146,  1686,  1107,  3206,\n",
       "           102]]), 'token_type_ids': tensor([[0, 0, 0, 0, 0, 0, 0, 0, 0, 0, 0]]), 'attention_mask': tensor([[1, 1, 1, 1, 1, 1, 1, 1, 1, 1, 1]])}"
      ]
     },
     "execution_count": 7,
     "metadata": {},
     "output_type": "execute_result"
    }
   ],
   "source": [
    "example = \"My name is Wolfgang and I live in Berlin\"\n",
    "\n",
    "tokens = tokenizer(example, return_tensors='pt')\n",
    "tokens"
   ]
  },
  {
   "cell_type": "code",
   "execution_count": 15,
   "metadata": {},
   "outputs": [],
   "source": [
    "model.eval()\n",
    "output = model(tokens.input_ids)"
   ]
  },
  {
   "cell_type": "code",
   "execution_count": 17,
   "metadata": {},
   "outputs": [
    {
     "data": {
      "text/plain": [
       "(torch.Size([1, 11]), torch.Size([1, 11, 9]))"
      ]
     },
     "execution_count": 17,
     "metadata": {},
     "output_type": "execute_result"
    }
   ],
   "source": [
    "tokens['input_ids'].shape, output['logits'].shape"
   ]
  },
  {
   "cell_type": "code",
   "execution_count": 19,
   "metadata": {},
   "outputs": [
    {
     "data": {
      "text/plain": [
       "tensor([[[ 7.0687e+00, -4.5536e-01, -1.0750e+00, -8.5831e-01, -1.1361e+00,\n",
       "          -9.6533e-01, -1.5936e+00, -9.7993e-01, -1.1887e+00],\n",
       "         [ 9.3086e+00, -1.2812e+00, -2.5905e+00,  7.8389e-03, -1.9809e+00,\n",
       "          -1.5162e+00, -2.3603e+00, -6.7013e-01, -1.2216e+00],\n",
       "         [ 9.6154e+00, -1.1142e+00, -2.0568e+00, -3.5809e-01, -1.1853e+00,\n",
       "          -2.4836e+00, -1.7056e+00, -1.2519e+00, -1.1425e+00],\n",
       "         [ 9.5420e+00, -1.0611e+00, -2.0022e+00, -3.3472e-01, -1.2728e+00,\n",
       "          -2.5949e+00, -1.7528e+00, -1.1393e+00, -9.9801e-01],\n",
       "         [-4.8635e-01, -1.4142e+00, -2.8361e+00,  8.0971e+00, -5.2416e-01,\n",
       "          -5.9288e-01, -2.8314e+00, -8.1992e-03, -2.0378e+00],\n",
       "         [ 9.7367e+00, -1.5220e+00, -1.6149e+00, -1.0701e+00, -7.6580e-01,\n",
       "          -2.2765e+00, -1.1857e+00, -1.3290e+00, -1.3701e+00],\n",
       "         [ 9.2872e+00, -1.4188e+00, -2.6495e+00, -4.5130e-02, -1.6068e+00,\n",
       "          -1.8935e+00, -2.1403e+00, -7.0498e-01, -1.2672e+00],\n",
       "         [ 1.0084e+01, -1.2522e+00, -2.3873e+00, -1.1277e+00, -1.5836e+00,\n",
       "          -1.9086e+00, -1.5070e+00, -9.7917e-01, -1.3898e+00],\n",
       "         [ 1.0084e+01, -7.4412e-01, -2.5380e+00, -1.0910e+00, -2.2025e+00,\n",
       "          -1.8274e+00, -1.7620e+00, -5.6005e-01, -1.2853e+00],\n",
       "         [-6.0725e-01, -9.2705e-01, -2.1623e+00, -8.8538e-01, -2.1409e+00,\n",
       "          -5.7700e-01, -1.5143e+00,  8.9237e+00, -1.2083e+00],\n",
       "         [ 6.5752e+00, -1.1398e-01, -1.6711e+00,  1.5710e-01, -1.4608e+00,\n",
       "          -2.0295e+00, -1.7952e+00, -1.7976e-01, -1.6744e+00]]],\n",
       "       grad_fn=<AddBackward0>)"
      ]
     },
     "execution_count": 19,
     "metadata": {},
     "output_type": "execute_result"
    }
   ],
   "source": [
    "output['logits']"
   ]
  }
 ],
 "metadata": {
  "kernelspec": {
   "display_name": "Python 3.8.12 ('.venv': poetry)",
   "language": "python",
   "name": "python3"
  },
  "language_info": {
   "codemirror_mode": {
    "name": "ipython",
    "version": 3
   },
   "file_extension": ".py",
   "mimetype": "text/x-python",
   "name": "python",
   "nbconvert_exporter": "python",
   "pygments_lexer": "ipython3",
   "version": "3.8.12"
  },
  "orig_nbformat": 4,
  "vscode": {
   "interpreter": {
    "hash": "d122aaf2b0306f20ca93b90292d25012a3f971c7b1e744ebfca2a470066318a0"
   }
  }
 },
 "nbformat": 4,
 "nbformat_minor": 2
}
