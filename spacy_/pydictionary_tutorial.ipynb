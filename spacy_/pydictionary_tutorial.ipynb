{
 "cells": [
  {
   "cell_type": "code",
   "execution_count": 2,
   "metadata": {},
   "outputs": [],
   "source": [
    "from PyDictionary import PyDictionary\n",
    "dictionary = PyDictionary()"
   ]
  },
  {
   "cell_type": "code",
   "execution_count": 8,
   "metadata": {},
   "outputs": [
    {
     "data": {
      "text/plain": [
       "{'Noun': ['a characteristic state or mode of living',\n",
       "  'the experience of being alive; the course of human events and activities',\n",
       "  'the course of existence of an individual; the actions and events that occur in living',\n",
       "  'the condition of living or the state of being alive',\n",
       "  'the period during which something is functional (as between birth and death',\n",
       "  'the period between birth and the present time',\n",
       "  'the period from the present until death',\n",
       "  'a living person',\n",
       "  'animation and energy in action or expression',\n",
       "  'living things collectively',\n",
       "  'the organic phenomenon that distinguishes living organisms from nonliving ones',\n",
       "  \"an account of the series of events making up a person's life\",\n",
       "  'a motive for living',\n",
       "  'a prison term lasting as long as the prisoner lives']}"
      ]
     },
     "execution_count": 8,
     "metadata": {},
     "output_type": "execute_result"
    }
   ],
   "source": [
    "dictionary.meaning(\"Life\")"
   ]
  },
  {
   "cell_type": "code",
   "execution_count": 9,
   "metadata": {},
   "outputs": [
    {
     "name": "stdout",
     "output_type": "stream",
     "text": [
      "Life has no Synonyms in the API\n"
     ]
    }
   ],
   "source": [
    "dictionary.synonym(\"Life\")"
   ]
  },
  {
   "cell_type": "code",
   "execution_count": 12,
   "metadata": {},
   "outputs": [
    {
     "data": {
      "text/plain": [
       "'Zasięg'"
      ]
     },
     "execution_count": 12,
     "metadata": {},
     "output_type": "execute_result"
    }
   ],
   "source": [
    "dictionary.translate(\"Range\", 'pl')"
   ]
  },
  {
   "cell_type": "code",
   "execution_count": 13,
   "metadata": {},
   "outputs": [
    {
     "name": "stdout",
     "output_type": "stream",
     "text": [
      "Hotel:\n",
      "Noun:\n",
      "a building where travelers can pay for lodging and meals and other services\n",
      "Ambush:\n",
      "Noun:\n",
      "the act of concealing yourself and lying in wait to attack by surprise\n",
      "Verb:\n",
      "wait in hiding to attack\n",
      "hunt (quarry\n",
      "Nonchalant:\n",
      "Adjective:\n",
      "marked by blithe unconcern\n",
      "Perceptive:\n",
      "Adjective:\n",
      "of or relating to perception\n",
      "having the ability to perceive or understand; keen in discernment\n",
      "None\n",
      "{'hotel': {'Noun': ['a building where travelers can pay for lodging and meals and other services']}, 'ambush': {'Noun': ['the act of concealing yourself and lying in wait to attack by surprise'], 'Verb': ['wait in hiding to attack', 'hunt (quarry']}, 'nonchalant': {'Adjective': ['marked by blithe unconcern']}, 'perceptive': {'Adjective': ['of or relating to perception', 'having the ability to perceive or understand; keen in discernment']}}\n",
      "hotel has no Synonyms in the API\n",
      "ambush has no Synonyms in the API\n",
      "nonchalant has no Synonyms in the API\n",
      "perceptive has no Synonyms in the API\n",
      "[None, None, None, None]\n",
      "['होटल', 'घात लगाना', 'बेपरवाह', 'भेदक']\n"
     ]
    }
   ],
   "source": [
    "dictionary=PyDictionary(\"hotel\",\"ambush\",\"nonchalant\",\"perceptive\")\n",
    "\n",
    "print(dictionary.printMeanings())  # '''This print the meanings of all the words'''\n",
    "print(dictionary.getMeanings())  # '''This will return meanings as dictionaries'''\n",
    "print (dictionary.getSynonyms())\n",
    "\n",
    "print (dictionary.translateTo(\"hi\"))  # '''This will translate all words to Hindi'''"
   ]
  }
 ],
 "metadata": {
  "kernelspec": {
   "display_name": "Python 3.8.12 ('.venv': poetry)",
   "language": "python",
   "name": "python3"
  },
  "language_info": {
   "codemirror_mode": {
    "name": "ipython",
    "version": 3
   },
   "file_extension": ".py",
   "mimetype": "text/x-python",
   "name": "python",
   "nbconvert_exporter": "python",
   "pygments_lexer": "ipython3",
   "version": "3.8.12"
  },
  "orig_nbformat": 4,
  "vscode": {
   "interpreter": {
    "hash": "d122aaf2b0306f20ca93b90292d25012a3f971c7b1e744ebfca2a470066318a0"
   }
  }
 },
 "nbformat": 4,
 "nbformat_minor": 2
}
